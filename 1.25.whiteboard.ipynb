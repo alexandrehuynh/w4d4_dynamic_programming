{
 "cells": [
  {
   "cell_type": "code",
   "execution_count": null,
   "id": "c86aa7fb-8800-4518-a318-715b4778a8e3",
   "metadata": {
    "tags": []
   },
   "outputs": [],
   "source": [
    "# The championship round of matches is over. Hooray!\n",
    "\n",
    "# We have diligently recorded all of the results of the matches in an array of tuples. The first\n",
    "# value in the tuple represents that teams score, the second value in the tuple represents their oponents.\n",
    "# We need you to build a function to help us determine if that team has won or not. Return True if\n",
    "# the # of matches that they won is more than they have lost, False otherwise.\n",
    "\n",
    "\n",
    "# Examples\n",
    "# Input = [(5,3), (10,7), (2,8), (3,3), (4,1)]\n",
    "# Output = True \n",
    "# Explanation = The team won their 1st, 2nd and last match (for a total of 3 wins) and only lost the 3rd.\n",
    "\n",
    "\n",
    "# Input = [(1,3), (5,7), (8,4)]\n",
    "# Output = False\n",
    "# Explanation = The team lost their first two matches and only won their 3rd and final match. "
   ]
  },
  {
   "cell_type": "code",
   "execution_count": 20,
   "id": "0dac6809-9494-4100-890e-01a5996a9bb1",
   "metadata": {
    "tags": []
   },
   "outputs": [
    {
     "data": {
      "text/plain": [
       "False"
      ]
     },
     "execution_count": 20,
     "metadata": {},
     "output_type": "execute_result"
    }
   ],
   "source": [
    "def did_i_win(matches):\n",
    "    \n",
    "    wins = 0\n",
    "    losses = 0\n",
    "    \n",
    "    for i in matches:\n",
    "        if i[0] > i[1]:\n",
    "            wins += 1\n",
    "        elif i[0] < i[1]:\n",
    "            losses += 1\n",
    "        else:\n",
    "            continue\n",
    "    \n",
    "    if wins > losses:\n",
    "        return True\n",
    "    else:\n",
    "        return False\n",
    "\n",
    "Input = [(5,3), (10,7), (2,8), (3,3), (4,1)]\n",
    "Input2 = [(1,3), (5,7), (8,4)] \n",
    "Input3 = [(3,3), (3,3)]\n",
    "\n",
    "did_i_win(Input3)"
   ]
  },
  {
   "cell_type": "code",
   "execution_count": 21,
   "id": "fb1f765c-a4a1-432b-b004-5ae63af5aa28",
   "metadata": {
    "tags": []
   },
   "outputs": [
    {
     "data": {
      "text/plain": [
       "False"
      ]
     },
     "execution_count": 21,
     "metadata": {},
     "output_type": "execute_result"
    }
   ],
   "source": [
    "def did_i_win(matches):\n",
    "    wins, losses = 0, 0\n",
    "    for team_score, opp_score in matches:\n",
    "        if team_score > opp_score:\n",
    "            wins += 1\n",
    "        elif team_score < opp_score:\n",
    "            losses += 1\n",
    "    return wins > losses\n",
    "\n",
    "Input = [(5,3), (10,7), (2,8), (3,3), (4,1)]\n",
    "Input2 = [(1,3), (5,7), (8,4)] \n",
    "Input3 = [(3,3), (3,3)]\n",
    "\n",
    "did_i_win(Input3)"
   ]
  },
  {
   "cell_type": "code",
   "execution_count": 31,
   "id": "6db1d1b8-5285-4053-b6c4-bb5a687a615b",
   "metadata": {
    "tags": []
   },
   "outputs": [
    {
     "data": {
      "text/plain": [
       "False"
      ]
     },
     "execution_count": 31,
     "metadata": {},
     "output_type": "execute_result"
    }
   ],
   "source": [
    "def did_i_win(matches):\n",
    "    return sum(i[0] > i[1] for i in matches) > sum(i[0] < i[1] for i in matches)\n",
    "\n",
    "\n",
    "Input = [(5,3), (10,7), (2,8), (3,3), (4,1)]\n",
    "Input2 = [(1,3), (5,7), (8,4)] \n",
    "Input3 = [(3,3), (3,3)]\n",
    "Input4 = [(3,3), (3,3), (4,1), (3,2)]\n",
    "did_i_win(Input3)"
   ]
  },
  {
   "cell_type": "code",
   "execution_count": 36,
   "id": "03718e87-e0bf-477b-841a-7a9ff11e79b4",
   "metadata": {
    "tags": []
   },
   "outputs": [
    {
     "name": "stdout",
     "output_type": "stream",
     "text": [
      "1 2\n"
     ]
    },
    {
     "data": {
      "text/plain": [
       "False"
      ]
     },
     "execution_count": 36,
     "metadata": {},
     "output_type": "execute_result"
    }
   ],
   "source": [
    "def did_i_win(matches):\n",
    "    \n",
    "    ## debug\n",
    "    win = sum(map(lambda x: x[0] > x[1], matches))\n",
    "    lose = sum(map(lambda x: x[0] < x[1], matches))               \n",
    "    print(win, lose)\n",
    "    \n",
    "    ## function\n",
    "    result = sum(map(lambda x: x[0] > x[1], matches)) - sum(map(lambda x: x[0] < x[1], matches))\n",
    "    return result > 0\n",
    "\n",
    "\n",
    "Input = [(5,3), (10,7), (2,8), (3,3), (4,1)]\n",
    "Input2 = [(1,3), (5,7), (8,4)] \n",
    "Input3 = [(3,3), (3,3)]\n",
    "Input4 = [(3,3), (3,3), (4,1), (3,2)]\n",
    "\n",
    "did_i_win(Input2)"
   ]
  }
 ],
 "metadata": {
  "kernelspec": {
   "display_name": "Python 3 (ipykernel)",
   "language": "python",
   "name": "python3"
  },
  "language_info": {
   "codemirror_mode": {
    "name": "ipython",
    "version": 3
   },
   "file_extension": ".py",
   "mimetype": "text/x-python",
   "name": "python",
   "nbconvert_exporter": "python",
   "pygments_lexer": "ipython3",
   "version": "3.11.5"
  }
 },
 "nbformat": 4,
 "nbformat_minor": 5
}
